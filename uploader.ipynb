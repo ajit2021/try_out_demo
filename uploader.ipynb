{
 "cells": [
  {
   "cell_type": "markdown",
   "metadata": {},
   "source": [
    "# RT functionality"
   ]
  },
  {
   "cell_type": "code",
   "execution_count": null,
   "metadata": {},
   "outputs": [
    {
     "data": {
      "text/html": "\n        <iframe\n            width=\"800\"\n            height=\"800\"\n            src=\"http://127.0.0.1:5601/app/dashboards#/view/5984b3f0-65e4-11eb-b140-b9222c1ff7b4?embed=true&_g=(filters%3A!()%2CrefreshInterval%3A(pause%3A!f%2Cvalue%3A5000)%2Ctime%3A(from%3Anow-60m%2Cto%3Anow\"\n            frameborder=\"0\"\n            allowfullscreen\n        ></iframe>\n        ",
      "text/plain": [
       "<IPython.lib.display.IFrame at 0x2bd4a6ed940>"
      ]
     },
     "execution_count": null,
     "metadata": {},
     "output_type": "execute_result"
    }
   ],
   "source": [
    "from IPython.display import IFrame\n",
    "IFrame('http://127.0.0.1:5601/app/dashboards#/view/5984b3f0-65e4-11eb-b140-b9222c1ff7b4?embed=true&_g=(filters%3A!()%2CrefreshInterval%3A(pause%3A!f%2Cvalue%3A5000)%2Ctime%3A(from%3Anow-60m%2Cto%3Anow', width=800, height=800)\n"
   ]
  },
  {
   "cell_type": "code",
   "execution_count": null,
   "metadata": {},
   "outputs": [],
   "source": []
  }
 ],
 "metadata": {
  "kernelspec": {
   "display_name": "Python 3",
   "language": "python",
   "name": "python3"
  }
 },
 "nbformat": 4,
 "nbformat_minor": 5
}
