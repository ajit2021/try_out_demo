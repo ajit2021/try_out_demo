{
 "cells": [
  {
   "cell_type": "code",
   "execution_count": null,
   "id": "written-reason",
   "metadata": {},
   "outputs": [],
   "source": [
    "#Lets_try_this_library card"
   ]
  },
  {
   "cell_type": "code",
   "execution_count": null,
   "id": "revised-survey",
   "metadata": {},
   "outputs": [],
   "source": [
    "from nbdev.showdoc import *"
   ]
  },
  {
   "cell_type": "code",
   "execution_count": null,
   "id": "controlling-orlando",
   "metadata": {},
   "outputs": [],
   "source": [
    "from __future__ import print_function,division \n",
    "import random"
   ]
  },
  {
   "cell_type": "code",
   "execution_count": null,
   "id": "bronze-projection",
   "metadata": {},
   "outputs": [],
   "source": [
    "class cars:\n",
    "    \"\"\"\n",
    "    Class contains information about cars.\n",
    "    \"\"\"\n",
    "    colors=[\"Red\",\"Green\",\"Blue\",\"White\"]\n",
    "    costs=[\"1000\",\"2000\",\"599\",\"121\"]\n",
    "    \n",
    "    def __init__(self,color_rank=0,cost_rank=0):\n",
    "        self.color=color_rank\n",
    "        self.cost=cost_rank\n",
    "    def __str__(self):\n",
    "        return \"%s is %s\" % (cars.colors[self.color],cars.costs[self.cost])\n",
    "    \n",
    "    \n",
    "    "
   ]
  },
  {
   "cell_type": "code",
   "execution_count": null,
   "id": "geographic-robertson",
   "metadata": {},
   "outputs": [],
   "source": [
    "ex=cars(2,3)"
   ]
  },
  {
   "cell_type": "code",
   "execution_count": null,
   "id": "illegal-athens",
   "metadata": {},
   "outputs": [],
   "source": [
    "assert str(ex)==\"Blue is 121\""
   ]
  },
  {
   "cell_type": "code",
   "execution_count": null,
   "id": "running-still",
   "metadata": {},
   "outputs": [
    {
     "name": "stdout",
     "output_type": "stream",
     "text": [
      "Blue is 121\n"
     ]
    }
   ],
   "source": []
  },
  {
   "cell_type": "code",
   "execution_count": null,
   "id": "verified-consent",
   "metadata": {},
   "outputs": [
    {
     "data": {
      "text/html": "\n        <iframe\n            width=\"1280\"\n            height=\"700\"\n            src=\"http://127.0.0.1:5601/goto/57d7b132bbe7a6fff569ced6ed296efb\"\n            frameborder=\"0\"\n            allowfullscreen\n        ></iframe>\n        ",
      "text/plain": [
       "<IPython.lib.display.IFrame at 0x1c346d86e50>"
      ]
     },
     "execution_count": null,
     "metadata": {},
     "output_type": "execute_result"
    }
   ],
   "source": [
    "from IPython.display import IFrame\n",
    "IFrame('http://127.0.0.1:5601/goto/57d7b132bbe7a6fff569ced6ed296efb', width=1280, height=700)"
   ]
  },
  {
   "cell_type": "code",
   "execution_count": null,
   "metadata": {},
   "outputs": [],
   "source": []
  },
  {
   "cell_type": "code",
   "execution_count": null,
   "metadata": {},
   "outputs": [],
   "source": []
  },
  {
   "cell_type": "code",
   "execution_count": null,
   "metadata": {},
   "outputs": [],
   "source": []
  },
  {
   "cell_type": "code",
   "execution_count": null,
   "metadata": {},
   "outputs": [],
   "source": []
  }
 ],
 "metadata": {
  "kernelspec": {
   "display_name": "Python 3",
   "language": "python",
   "name": "python3"
  }
 },
 "nbformat": 4,
 "nbformat_minor": 5
}
