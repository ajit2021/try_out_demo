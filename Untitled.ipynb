{
 "cells": [
  {
   "cell_type": "code",
   "execution_count": 3,
   "id": "written-reason",
   "metadata": {},
   "outputs": [],
   "source": [
    "#Lets_try_this_library card"
   ]
  },
  {
   "cell_type": "code",
   "execution_count": 4,
   "id": "revised-survey",
   "metadata": {},
   "outputs": [],
   "source": [
    "from nbdev.showdoc import *"
   ]
  },
  {
   "cell_type": "code",
   "execution_count": 7,
   "id": "controlling-orlando",
   "metadata": {},
   "outputs": [],
   "source": [
    "from __future__ import print_function,division \n",
    "import random"
   ]
  },
  {
   "cell_type": "code",
   "execution_count": 16,
   "id": "bronze-projection",
   "metadata": {},
   "outputs": [],
   "source": [
    "class cars:\n",
    "    \"\"\"\n",
    "    Class contains information about cars.\n",
    "    \"\"\"\n",
    "    colors=[\"Red\",\"Green\",\"Blue\",\"White\"]\n",
    "    costs=[\"1000\",\"2000\",\"599\",\"121\"]\n",
    "    \n",
    "    def __init__(self,color_rank=0,cost_rank=0):\n",
    "        self.color=color_rank\n",
    "        self.cost=cost_rank\n",
    "    def __str__(self):\n",
    "        return \"%s is %s\" % (cars.colors[self.color],cars.costs[self.cost])\n",
    "    \n",
    "    \n",
    "    "
   ]
  },
  {
   "cell_type": "code",
   "execution_count": 19,
   "id": "geographic-robertson",
   "metadata": {},
   "outputs": [],
   "source": [
    "ex=cars(2,3)"
   ]
  },
  {
   "cell_type": "code",
   "execution_count": 22,
   "id": "illegal-athens",
   "metadata": {},
   "outputs": [],
   "source": [
    "assert str(ex)==\"Blue is 121\""
   ]
  },
  {
   "cell_type": "code",
   "execution_count": 21,
   "id": "running-still",
   "metadata": {},
   "outputs": [
    {
     "name": "stdout",
     "output_type": "stream",
     "text": [
      "Blue is 121\n"
     ]
    }
   ],
   "source": []
  },
  {
   "cell_type": "code",
   "execution_count": null,
   "id": "verified-consent",
   "metadata": {},
   "outputs": [],
   "source": []
  }
 ],
 "metadata": {
  "kernelspec": {
   "display_name": "Python 3",
   "language": "python",
   "name": "python3"
  },
  "language_info": {
   "codemirror_mode": {
    "name": "ipython",
    "version": 3
   },
   "file_extension": ".py",
   "mimetype": "text/x-python",
   "name": "python",
   "nbconvert_exporter": "python",
   "pygments_lexer": "ipython3",
   "version": "3.9.1"
  }
 },
 "nbformat": 4,
 "nbformat_minor": 5
}
